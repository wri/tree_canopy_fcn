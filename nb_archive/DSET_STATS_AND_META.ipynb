{
 "cells": [
  {
   "cell_type": "code",
   "execution_count": 1,
   "metadata": {},
   "outputs": [],
   "source": [
    "import sys\n",
    "PROJECT_DIR='/home/ericp/tree_canopy_fcn/repo'\n",
    "sys.path.append(PROJECT_DIR)\n",
    "from importlib import reload"
   ]
  },
  {
   "cell_type": "code",
   "execution_count": 2,
   "metadata": {},
   "outputs": [],
   "source": [
    "import re\n",
    "import pandas as pd\n",
    "import image_kit.io as io\n",
    "import mproc"
   ]
  },
  {
   "cell_type": "markdown",
   "metadata": {},
   "source": [
    "---"
   ]
  },
  {
   "cell_type": "code",
   "execution_count": 3,
   "metadata": {},
   "outputs": [],
   "source": [
    "LIDAR_SUBFOLDER='USGS_LPC_CA_LosAngeles_2016_LAS_2018'\n",
    "DSET_PATH=f'{PROJECT_DIR}/datasets/los_angeles-naip-lidar_USGS_LPC_CA_LosAngeles_2016_LAS_2018.STATS.csv'\n",
    "MAX_BLACK_PIXEL=512*4"
   ]
  },
  {
   "cell_type": "markdown",
   "metadata": {},
   "source": [
    "---"
   ]
  },
  {
   "cell_type": "code",
   "execution_count": 4,
   "metadata": {},
   "outputs": [],
   "source": [
    "def lidar_path(rgbn_path,lidar_subfolder=LIDAR_SUBFOLDER,lidar_prefix='hag'):\n",
    "    parts=rgbn_path.split('/')\n",
    "    root=\"/\".join(parts[:-1])\n",
    "    root=re.sub('naip','lidar',root)\n",
    "    if lidar_subfolder:\n",
    "        root=f'{root}/{lidar_subfolder}'\n",
    "    name=parts[-1]\n",
    "    name=re.sub('naip',lidar_prefix,name)\n",
    "    name=re.sub('_20[0-9]{2}-','-',name)\n",
    "    return f'{root}/{name}'\n",
    "\n",
    "\n",
    "def dset_type(rgbn_path):\n",
    "    name=rgbn_path.split('-')[-1]\n",
    "    return re.sub('.tif$','',name)\n",
    "\n",
    "\n",
    "def stat_row(row_dict):\n",
    "    r=row_dict.copy()\n",
    "    im=io.read(row_dict['rgbn_path'],return_profile=False)\n",
    "    r['means']=im.mean(axis=(1,2))\n",
    "    r['stdevs']=im.std(axis=(1,2))\n",
    "    r['black_pixel_count']=(im[:3].sum(axis=0)==0).sum()\n",
    "    try:\n",
    "        im=io.read(row_dict['hag_path'],return_profile=False)\n",
    "        r['lidar_shape']=im.shape\n",
    "    except:\n",
    "        r['lidar_shape']=None\n",
    "    return r"
   ]
  },
  {
   "cell_type": "markdown",
   "metadata": {},
   "source": [
    "---"
   ]
  },
  {
   "cell_type": "code",
   "execution_count": 5,
   "metadata": {},
   "outputs": [
    {
     "name": "stdout",
     "output_type": "stream",
     "text": [
      "/DATA/download-csvs/naip-los_angeles.csv\r\n"
     ]
    }
   ],
   "source": [
    "!ls /DATA/download-csvs/*.csv"
   ]
  },
  {
   "cell_type": "code",
   "execution_count": 6,
   "metadata": {},
   "outputs": [
    {
     "data": {
      "text/plain": [
       "3387"
      ]
     },
     "execution_count": 6,
     "metadata": {},
     "output_type": "execute_result"
    }
   ],
   "source": [
    "dsets_df=pd.read_csv('/DATA/download-csvs/naip-los_angeles.csv')\n",
    "dsets_df.columns=['tile_key', 'year', 'rgbn_path', 'error', 'error_msg']\n",
    "dsets_df['hag_path']=dsets_df.rgbn_path.apply(lidar_path)\n",
    "dsets_df['dset_type']=dsets_df.rgbn_path.apply(dset_type)\n",
    "dsets_df.shape[0]"
   ]
  },
  {
   "cell_type": "markdown",
   "metadata": {},
   "source": [
    "---"
   ]
  },
  {
   "cell_type": "code",
   "execution_count": 7,
   "metadata": {},
   "outputs": [],
   "source": [
    "dsets_dicts=dsets_df.to_dict('records')"
   ]
  },
  {
   "cell_type": "code",
   "execution_count": 8,
   "metadata": {},
   "outputs": [
    {
     "name": "stdout",
     "output_type": "stream",
     "text": [
      "CPU times: user 1min 4s, sys: 8.17 s, total: 1min 12s\n",
      "Wall time: 17.6 s\n",
      "(3387, 11)\n"
     ]
    }
   ],
   "source": [
    "%time out=mproc.map_with_threadpool(stat_row,dsets_dicts,max_processes=64)\n",
    "df=pd.DataFrame(out)\n",
    "print(df.shape)"
   ]
  },
  {
   "cell_type": "markdown",
   "metadata": {
    "scrolled": false
   },
   "source": [
    "---"
   ]
  },
  {
   "cell_type": "code",
   "execution_count": 9,
   "metadata": {},
   "outputs": [
    {
     "name": "stdout",
     "output_type": "stream",
     "text": [
      "NB Missing Lidar: 31\n",
      "=> (3356, 11)\n"
     ]
    }
   ],
   "source": [
    "test=df.lidar_shape.isna()\n",
    "print('NB Missing Lidar:',df[test].shape[0])\n",
    "df=df[~test]\n",
    "print('=>',df.shape)"
   ]
  },
  {
   "cell_type": "code",
   "execution_count": 10,
   "metadata": {},
   "outputs": [
    {
     "name": "stdout",
     "output_type": "stream",
     "text": [
      "NB Bad Lidar Shape: 3346\n",
      "=> (10, 11)\n"
     ]
    }
   ],
   "source": [
    "test=df.lidar_shape==(1, 512, 512)\n",
    "print('NB Bad Lidar Shape:',df[test].shape[0])\n",
    "df=df[~test]\n",
    "print('=>',df.shape)"
   ]
  },
  {
   "cell_type": "code",
   "execution_count": 11,
   "metadata": {},
   "outputs": [
    {
     "name": "stdout",
     "output_type": "stream",
     "text": [
      "NB BLACK > MAX BLACK PIXS: 0\n",
      "=> (10, 11)\n"
     ]
    }
   ],
   "source": [
    "test=(df.black_pixel_count>MAX_BLACK_PIXEL)\n",
    "print('NB BLACK > MAX BLACK PIXS:',df[test].shape[0])\n",
    "df=df[~test]\n",
    "print('=>',df.shape)"
   ]
  },
  {
   "cell_type": "markdown",
   "metadata": {},
   "source": [
    "---"
   ]
  },
  {
   "cell_type": "code",
   "execution_count": 12,
   "metadata": {},
   "outputs": [],
   "source": [
    "COLS=[\n",
    "    'dset_type',\n",
    "    'tile_key',\n",
    "    'year',\n",
    "    'means',\n",
    "    'stdevs',\n",
    "    'black_pixel_count',\n",
    "    'rgbn_path',\n",
    "    'hag_path']\n",
    "df=df[COLS]\n",
    "df.to_csv(\n",
    "    DSET_PATH,\n",
    "    index=False)"
   ]
  },
  {
   "cell_type": "markdown",
   "metadata": {},
   "source": [
    "---"
   ]
  },
  {
   "cell_type": "code",
   "execution_count": 13,
   "metadata": {},
   "outputs": [
    {
     "name": "stdout",
     "output_type": "stream",
     "text": [
      "MEANS=[97.33728790283203, 93.58218002319336, 89.59181938171386, 109.35328521728516]\n",
      "STDEVS=[32.67245474001072, 28.142484246235437, 24.125673156344252, 21.711092083738954]\n"
     ]
    }
   ],
   "source": [
    "print(f'MEANS={df.means.mean(axis=0).tolist()}')\n",
    "print(f'STDEVS={df.stdevs.mean(axis=0).tolist()}')"
   ]
  },
  {
   "cell_type": "markdown",
   "metadata": {},
   "source": [
    "---"
   ]
  },
  {
   "cell_type": "code",
   "execution_count": 14,
   "metadata": {},
   "outputs": [
    {
     "data": {
      "text/html": [
       "<div>\n",
       "<style scoped>\n",
       "    .dataframe tbody tr th:only-of-type {\n",
       "        vertical-align: middle;\n",
       "    }\n",
       "\n",
       "    .dataframe tbody tr th {\n",
       "        vertical-align: top;\n",
       "    }\n",
       "\n",
       "    .dataframe thead th {\n",
       "        text-align: right;\n",
       "    }\n",
       "</style>\n",
       "<table border=\"1\" class=\"dataframe\">\n",
       "  <thead>\n",
       "    <tr style=\"text-align: right;\">\n",
       "      <th></th>\n",
       "      <th>dset_type</th>\n",
       "      <th>tile_key</th>\n",
       "      <th>year</th>\n",
       "      <th>means</th>\n",
       "      <th>stdevs</th>\n",
       "      <th>black_pixel_count</th>\n",
       "      <th>rgbn_path</th>\n",
       "      <th>hag_path</th>\n",
       "    </tr>\n",
       "  </thead>\n",
       "  <tbody>\n",
       "    <tr>\n",
       "      <td>2248</td>\n",
       "      <td>train</td>\n",
       "      <td>480:16:1.0:11:-270:7778</td>\n",
       "      <td>2016</td>\n",
       "      <td>[46.63837814331055, 53.684268951416016, 59.593...</td>\n",
       "      <td>[37.96750196540931, 32.015391039285596, 25.495...</td>\n",
       "      <td>0</td>\n",
       "      <td>/DATA/imagery/los_angeles/v1/naip/naip_480:16:...</td>\n",
       "      <td>/DATA/imagery/los_angeles/v1/lidar/USGS_LPC_CA...</td>\n",
       "    </tr>\n",
       "    <tr>\n",
       "      <td>3033</td>\n",
       "      <td>valid</td>\n",
       "      <td>480:16:1.0:11:-144:7842</td>\n",
       "      <td>2016</td>\n",
       "      <td>[135.64130020141602, 132.26757049560547, 127.1...</td>\n",
       "      <td>[42.67174082074695, 39.28968447695191, 36.4302...</td>\n",
       "      <td>0</td>\n",
       "      <td>/DATA/imagery/los_angeles/v1/naip/naip_480:16:...</td>\n",
       "      <td>/DATA/imagery/los_angeles/v1/lidar/USGS_LPC_CA...</td>\n",
       "    </tr>\n",
       "    <tr>\n",
       "      <td>1470</td>\n",
       "      <td>train</td>\n",
       "      <td>480:16:1.0:11:-155:7825</td>\n",
       "      <td>2016</td>\n",
       "      <td>[110.82851028442383, 100.07578659057617, 91.69...</td>\n",
       "      <td>[25.161990113250905, 20.326465615577472, 15.52...</td>\n",
       "      <td>0</td>\n",
       "      <td>/DATA/imagery/los_angeles/v1/naip/naip_480:16:...</td>\n",
       "      <td>/DATA/imagery/los_angeles/v1/lidar/USGS_LPC_CA...</td>\n",
       "    </tr>\n",
       "  </tbody>\n",
       "</table>\n",
       "</div>"
      ],
      "text/plain": [
       "     dset_type                 tile_key  year  \\\n",
       "2248     train  480:16:1.0:11:-270:7778  2016   \n",
       "3033     valid  480:16:1.0:11:-144:7842  2016   \n",
       "1470     train  480:16:1.0:11:-155:7825  2016   \n",
       "\n",
       "                                                  means  \\\n",
       "2248  [46.63837814331055, 53.684268951416016, 59.593...   \n",
       "3033  [135.64130020141602, 132.26757049560547, 127.1...   \n",
       "1470  [110.82851028442383, 100.07578659057617, 91.69...   \n",
       "\n",
       "                                                 stdevs  black_pixel_count  \\\n",
       "2248  [37.96750196540931, 32.015391039285596, 25.495...                  0   \n",
       "3033  [42.67174082074695, 39.28968447695191, 36.4302...                  0   \n",
       "1470  [25.161990113250905, 20.326465615577472, 15.52...                  0   \n",
       "\n",
       "                                              rgbn_path  \\\n",
       "2248  /DATA/imagery/los_angeles/v1/naip/naip_480:16:...   \n",
       "3033  /DATA/imagery/los_angeles/v1/naip/naip_480:16:...   \n",
       "1470  /DATA/imagery/los_angeles/v1/naip/naip_480:16:...   \n",
       "\n",
       "                                               hag_path  \n",
       "2248  /DATA/imagery/los_angeles/v1/lidar/USGS_LPC_CA...  \n",
       "3033  /DATA/imagery/los_angeles/v1/lidar/USGS_LPC_CA...  \n",
       "1470  /DATA/imagery/los_angeles/v1/lidar/USGS_LPC_CA...  "
      ]
     },
     "execution_count": 14,
     "metadata": {},
     "output_type": "execute_result"
    }
   ],
   "source": [
    "df.sample(3)"
   ]
  },
  {
   "cell_type": "code",
   "execution_count": null,
   "metadata": {},
   "outputs": [],
   "source": []
  }
 ],
 "metadata": {
  "kernelspec": {
   "display_name": "Python [conda env:pcp-env]",
   "language": "python",
   "name": "conda-env-pcp-env-py"
  },
  "language_info": {
   "codemirror_mode": {
    "name": "ipython",
    "version": 3
   },
   "file_extension": ".py",
   "mimetype": "text/x-python",
   "name": "python",
   "nbconvert_exporter": "python",
   "pygments_lexer": "ipython3",
   "version": "3.7.3"
  }
 },
 "nbformat": 4,
 "nbformat_minor": 2
}
